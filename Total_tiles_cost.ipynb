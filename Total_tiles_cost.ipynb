{
 "cells": [
  {
   "cell_type": "markdown",
   "id": "9cf17cd3",
   "metadata": {},
   "source": [
    "# Find Cost of Tile to Cover W x H Floor\n",
    "\n",
    "Calculate the total cost of tile it would take to cover a floor plan of width and height, using a cost entered by the user."
   ]
  },
  {
   "cell_type": "code",
   "execution_count": 2,
   "id": "67ac69d6",
   "metadata": {},
   "outputs": [],
   "source": [
    "import timeit"
   ]
  },
  {
   "cell_type": "code",
   "execution_count": 25,
   "id": "c7b63a03",
   "metadata": {},
   "outputs": [],
   "source": [
    "import math"
   ]
  },
  {
   "cell_type": "markdown",
   "id": "299ee6c4",
   "metadata": {},
   "source": [
    "## Functions"
   ]
  },
  {
   "cell_type": "markdown",
   "id": "199938da",
   "metadata": {},
   "source": [
    "Keywords only, no other functions."
   ]
  },
  {
   "cell_type": "code",
   "execution_count": 38,
   "id": "f4be9edd",
   "metadata": {},
   "outputs": [],
   "source": [
    "def total_tile_cost(floor_width, floor_height, tile_width, tile_height):\n",
    "    def validate_price():\n",
    "        price = input('Give the tile price: $ ')\n",
    "        while not price.isdigit():\n",
    "            print('Error: only numbers allowed!')\n",
    "            price = input('Give the tile price: $ ')\n",
    "        return float(price)\n",
    "    # TILE PRICE RECEIVES ONLY DIGITS\n",
    "    tile_price = 1 #validate_price()\n",
    "    # NUM OF HORIZONTAL TILES\n",
    "    num_tiles_width = floor_width // tile_width\n",
    "    if floor_width % tile_width != 0:\n",
    "        num_tiles_width += 1\n",
    "    # NUM OF VERTICAL TILES\n",
    "    num_tiles_height = floor_height // tile_height\n",
    "    if floor_height % tile_height != 0:\n",
    "        num_tiles_height += 1\n",
    "    \n",
    "    return num_tiles_width * num_tiles_height * tile_price"
   ]
  },
  {
   "cell_type": "markdown",
   "id": "cae6b35f",
   "metadata": {},
   "source": [
    "Using .ceil()"
   ]
  },
  {
   "cell_type": "code",
   "execution_count": 39,
   "id": "5b0cae55",
   "metadata": {},
   "outputs": [],
   "source": [
    "def total_tile_cost2(floor_width, floor_height, tile_width, tile_height):\n",
    "    def validate_price():\n",
    "        price = input('Give the tile price: $ ')\n",
    "        while not price.isdigit():\n",
    "            print('Error: only numbers allowed!')\n",
    "            price = input('Give the tile price: $ ')\n",
    "        return float(price)\n",
    "    # TILE PRICE RECEIVES ONLY DIGITS\n",
    "    tile_price = 1 #validate_price()\n",
    "    \n",
    "    num_tiles_width = math.ceil(floor_width / tile_width)   \n",
    "    num_tiles_height = math.ceil(floor_height / tile_height)\n",
    "\n",
    "    return num_tiles_width * num_tiles_height * tile_price"
   ]
  },
  {
   "cell_type": "markdown",
   "id": "515221f8",
   "metadata": {},
   "source": [
    "Assigning .ceil to a local variable."
   ]
  },
  {
   "cell_type": "code",
   "execution_count": 40,
   "id": "096607b2",
   "metadata": {},
   "outputs": [],
   "source": [
    "def total_tile_cost3(floor_width, floor_height, tile_width, tile_height):\n",
    "    def validate_price():\n",
    "        price = input('Give the tile price: $ ')\n",
    "        while not price.isdigit():\n",
    "            print('Error: only numbers allowed!')\n",
    "            price = input('Give the tile price: $ ')\n",
    "        return float(price)\n",
    "    roundup = math.ceil\n",
    "    # TILE PRICE RECEIVES ONLY DIGITS\n",
    "    tile_price = 1 #validate_price()\n",
    "    \n",
    "    num_tiles_width = roundup(floor_width / tile_width)   \n",
    "    num_tiles_height = roundup(floor_height / tile_height)\n",
    "\n",
    "    return num_tiles_width * num_tiles_height * tile_price"
   ]
  },
  {
   "cell_type": "markdown",
   "id": "31f1a7fd",
   "metadata": {},
   "source": [
    "## Tests"
   ]
  },
  {
   "cell_type": "code",
   "execution_count": 4,
   "id": "fc0abe79",
   "metadata": {},
   "outputs": [],
   "source": [
    "# (floor_width, floor_height, tile_width, tile_height)\n",
    "dataset1 = (10, 10, 1, 1)\n",
    "dataset2 = (10, 10, 1, 1.5)"
   ]
  },
  {
   "cell_type": "code",
   "execution_count": 21,
   "id": "6e2631f5",
   "metadata": {},
   "outputs": [
    {
     "data": {
      "text/plain": [
       "70.0"
      ]
     },
     "execution_count": 21,
     "metadata": {},
     "output_type": "execute_result"
    }
   ],
   "source": [
    "total_tile_cost(*dataset2)"
   ]
  },
  {
   "cell_type": "code",
   "execution_count": 23,
   "id": "d410ea71",
   "metadata": {},
   "outputs": [
    {
     "data": {
      "text/plain": [
       "70"
      ]
     },
     "execution_count": 23,
     "metadata": {},
     "output_type": "execute_result"
    }
   ],
   "source": [
    "total_tile_cost2(*dataset2)"
   ]
  },
  {
   "cell_type": "markdown",
   "id": "33e30d15",
   "metadata": {},
   "source": [
    "## Timeit\n",
    "Disclaimer: set tile_price to a constant value for heavier loads of testing"
   ]
  },
  {
   "cell_type": "code",
   "execution_count": 41,
   "id": "0ee3c756",
   "metadata": {},
   "outputs": [
    {
     "name": "stdout",
     "output_type": "stream",
     "text": [
      "1.3 µs ± 12.7 ns per loop (mean ± std. dev. of 7 runs, 1,000,000 loops each)\n"
     ]
    }
   ],
   "source": [
    "%%timeit\n",
    "total_tile_cost(*dataset1)"
   ]
  },
  {
   "cell_type": "code",
   "execution_count": 42,
   "id": "ca72250c",
   "metadata": {},
   "outputs": [
    {
     "name": "stdout",
     "output_type": "stream",
     "text": [
      "1.46 µs ± 5.04 ns per loop (mean ± std. dev. of 7 runs, 1,000,000 loops each)\n"
     ]
    }
   ],
   "source": [
    "%%timeit\n",
    "total_tile_cost2(*dataset1)"
   ]
  },
  {
   "cell_type": "code",
   "execution_count": 43,
   "id": "575b9c27",
   "metadata": {},
   "outputs": [
    {
     "name": "stdout",
     "output_type": "stream",
     "text": [
      "1.42 µs ± 8.52 ns per loop (mean ± std. dev. of 7 runs, 1,000,000 loops each)\n"
     ]
    }
   ],
   "source": [
    "%%timeit\n",
    "total_tile_cost3(*dataset1)"
   ]
  },
  {
   "cell_type": "code",
   "execution_count": 19,
   "id": "a3cd2d80",
   "metadata": {},
   "outputs": [
    {
     "data": {
      "text/plain": [
       "0.6357142857142857"
      ]
     },
     "execution_count": 19,
     "metadata": {},
     "output_type": "execute_result"
    }
   ],
   "source": [
    "1 - 6.12/16.8"
   ]
  },
  {
   "cell_type": "markdown",
   "id": "71b164cc",
   "metadata": {},
   "source": [
    "## Verdict\n",
    "There's is an apparent 64% reduction in time when using math.ceil(), while assigning the .ceil() method to a local variable doesn't show performance improvement."
   ]
  },
  {
   "cell_type": "code",
   "execution_count": null,
   "id": "33e3fec1",
   "metadata": {},
   "outputs": [],
   "source": []
  }
 ],
 "metadata": {
  "kernelspec": {
   "display_name": "Python 3 (ipykernel)",
   "language": "python",
   "name": "python3"
  },
  "language_info": {
   "codemirror_mode": {
    "name": "ipython",
    "version": 3
   },
   "file_extension": ".py",
   "mimetype": "text/x-python",
   "name": "python",
   "nbconvert_exporter": "python",
   "pygments_lexer": "ipython3",
   "version": "3.10.4"
  }
 },
 "nbformat": 4,
 "nbformat_minor": 5
}
